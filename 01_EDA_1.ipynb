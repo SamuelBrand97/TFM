{
 "cells": [
  {
   "attachments": {},
   "cell_type": "markdown",
   "metadata": {},
   "source": [
    "# EDA PART 2"
   ]
  },
  {
   "cell_type": "code",
   "execution_count": 1,
   "metadata": {},
   "outputs": [],
   "source": [
    "import pandas as pd\n",
    "import numpy as np\n",
    "import matplotlib.pyplot as plt\n",
    "import seaborn as sns\n",
    "import matplotlib.pyplot as plt\n",
    "import missingno\n",
    "from scipy import stats\n",
    "import plotly.express as px\n",
    "import matplotlib.pyplot as plt"
   ]
  },
  {
   "cell_type": "code",
   "execution_count": 2,
   "metadata": {},
   "outputs": [
    {
     "data": {
      "text/html": [
       "<div>\n",
       "<style scoped>\n",
       "    .dataframe tbody tr th:only-of-type {\n",
       "        vertical-align: middle;\n",
       "    }\n",
       "\n",
       "    .dataframe tbody tr th {\n",
       "        vertical-align: top;\n",
       "    }\n",
       "\n",
       "    .dataframe thead th {\n",
       "        text-align: right;\n",
       "    }\n",
       "</style>\n",
       "<table border=\"1\" class=\"dataframe\">\n",
       "  <thead>\n",
       "    <tr style=\"text-align: right;\">\n",
       "      <th></th>\n",
       "      <th>Unnamed: 0</th>\n",
       "      <th>DEPTH_MD</th>\n",
       "      <th>X_LOC</th>\n",
       "      <th>Y_LOC</th>\n",
       "      <th>GROUP</th>\n",
       "      <th>CALI</th>\n",
       "      <th>RSHA</th>\n",
       "      <th>RMED</th>\n",
       "      <th>RDEP</th>\n",
       "      <th>RHOB</th>\n",
       "      <th>GR</th>\n",
       "      <th>NPHI</th>\n",
       "      <th>PEF</th>\n",
       "      <th>DTC</th>\n",
       "      <th>SP</th>\n",
       "      <th>DRHO</th>\n",
       "      <th>LITHOLOGY</th>\n",
       "      <th>VSH</th>\n",
       "    </tr>\n",
       "  </thead>\n",
       "  <tbody>\n",
       "    <tr>\n",
       "      <th>0</th>\n",
       "      <td>922572</td>\n",
       "      <td>2724.702000</td>\n",
       "      <td>450313.93750</td>\n",
       "      <td>6795994.0</td>\n",
       "      <td>BAAT GP.</td>\n",
       "      <td>11.581571</td>\n",
       "      <td>0.366497</td>\n",
       "      <td>1.163781</td>\n",
       "      <td>0.918190</td>\n",
       "      <td>2.356852</td>\n",
       "      <td>78.766212</td>\n",
       "      <td>0.205796</td>\n",
       "      <td>9.107889</td>\n",
       "      <td>83.988472</td>\n",
       "      <td>59.014019</td>\n",
       "      <td>-0.018337</td>\n",
       "      <td>Sandstone</td>\n",
       "      <td>0.089237</td>\n",
       "    </tr>\n",
       "    <tr>\n",
       "      <th>1</th>\n",
       "      <td>320996</td>\n",
       "      <td>2621.822805</td>\n",
       "      <td>454469.53125</td>\n",
       "      <td>6603730.0</td>\n",
       "      <td>ROGALAND GP.</td>\n",
       "      <td>18.109400</td>\n",
       "      <td>9.968602</td>\n",
       "      <td>0.797137</td>\n",
       "      <td>0.878440</td>\n",
       "      <td>2.277410</td>\n",
       "      <td>30.843834</td>\n",
       "      <td>0.282925</td>\n",
       "      <td>4.117731</td>\n",
       "      <td>81.420059</td>\n",
       "      <td>59.014019</td>\n",
       "      <td>0.001239</td>\n",
       "      <td>Sandstone</td>\n",
       "      <td>0.054281</td>\n",
       "    </tr>\n",
       "    <tr>\n",
       "      <th>2</th>\n",
       "      <td>728745</td>\n",
       "      <td>2637.138000</td>\n",
       "      <td>437780.34375</td>\n",
       "      <td>6791573.5</td>\n",
       "      <td>BAAT GP.</td>\n",
       "      <td>11.879846</td>\n",
       "      <td>2.809250</td>\n",
       "      <td>1.766732</td>\n",
       "      <td>1.737608</td>\n",
       "      <td>2.205797</td>\n",
       "      <td>38.775616</td>\n",
       "      <td>0.323573</td>\n",
       "      <td>6.058303</td>\n",
       "      <td>103.821838</td>\n",
       "      <td>61.254036</td>\n",
       "      <td>-0.059639</td>\n",
       "      <td>Sandstone</td>\n",
       "      <td>0.085962</td>\n",
       "    </tr>\n",
       "    <tr>\n",
       "      <th>3</th>\n",
       "      <td>582075</td>\n",
       "      <td>1992.700979</td>\n",
       "      <td>526935.68750</td>\n",
       "      <td>6758512.0</td>\n",
       "      <td>VIKING GP.</td>\n",
       "      <td>11.914101</td>\n",
       "      <td>1.580701</td>\n",
       "      <td>0.820026</td>\n",
       "      <td>0.544555</td>\n",
       "      <td>2.150259</td>\n",
       "      <td>39.672600</td>\n",
       "      <td>0.337625</td>\n",
       "      <td>3.794930</td>\n",
       "      <td>104.682312</td>\n",
       "      <td>66.092003</td>\n",
       "      <td>-0.011558</td>\n",
       "      <td>Sandstone</td>\n",
       "      <td>0.068806</td>\n",
       "    </tr>\n",
       "    <tr>\n",
       "      <th>4</th>\n",
       "      <td>191006</td>\n",
       "      <td>2198.375197</td>\n",
       "      <td>466874.18750</td>\n",
       "      <td>6479870.5</td>\n",
       "      <td>VIKING GP.</td>\n",
       "      <td>12.554856</td>\n",
       "      <td>1.318956</td>\n",
       "      <td>1.326310</td>\n",
       "      <td>1.415055</td>\n",
       "      <td>2.440757</td>\n",
       "      <td>59.876221</td>\n",
       "      <td>0.308275</td>\n",
       "      <td>6.058303</td>\n",
       "      <td>94.435440</td>\n",
       "      <td>39.258499</td>\n",
       "      <td>0.024615</td>\n",
       "      <td>Sandstone</td>\n",
       "      <td>0.245766</td>\n",
       "    </tr>\n",
       "  </tbody>\n",
       "</table>\n",
       "</div>"
      ],
      "text/plain": [
       "   Unnamed: 0     DEPTH_MD         X_LOC      Y_LOC         GROUP       CALI  \\\n",
       "0      922572  2724.702000  450313.93750  6795994.0      BAAT GP.  11.581571   \n",
       "1      320996  2621.822805  454469.53125  6603730.0  ROGALAND GP.  18.109400   \n",
       "2      728745  2637.138000  437780.34375  6791573.5      BAAT GP.  11.879846   \n",
       "3      582075  1992.700979  526935.68750  6758512.0    VIKING GP.  11.914101   \n",
       "4      191006  2198.375197  466874.18750  6479870.5    VIKING GP.  12.554856   \n",
       "\n",
       "       RSHA      RMED      RDEP      RHOB         GR      NPHI       PEF  \\\n",
       "0  0.366497  1.163781  0.918190  2.356852  78.766212  0.205796  9.107889   \n",
       "1  9.968602  0.797137  0.878440  2.277410  30.843834  0.282925  4.117731   \n",
       "2  2.809250  1.766732  1.737608  2.205797  38.775616  0.323573  6.058303   \n",
       "3  1.580701  0.820026  0.544555  2.150259  39.672600  0.337625  3.794930   \n",
       "4  1.318956  1.326310  1.415055  2.440757  59.876221  0.308275  6.058303   \n",
       "\n",
       "          DTC         SP      DRHO  LITHOLOGY       VSH  \n",
       "0   83.988472  59.014019 -0.018337  Sandstone  0.089237  \n",
       "1   81.420059  59.014019  0.001239  Sandstone  0.054281  \n",
       "2  103.821838  61.254036 -0.059639  Sandstone  0.085962  \n",
       "3  104.682312  66.092003 -0.011558  Sandstone  0.068806  \n",
       "4   94.435440  39.258499  0.024615  Sandstone  0.245766  "
      ]
     },
     "execution_count": 2,
     "metadata": {},
     "output_type": "execute_result"
    }
   ],
   "source": [
    "data = pd.read_csv('EDA_1.csv', sep=',')\n",
    "data.head()"
   ]
  },
  {
   "attachments": {},
   "cell_type": "markdown",
   "metadata": {},
   "source": [
    "# CLUSTERING"
   ]
  },
  {
   "cell_type": "code",
   "execution_count": 3,
   "metadata": {},
   "outputs": [
    {
     "data": {
      "text/plain": [
       "<seaborn.axisgrid.FacetGrid at 0x26ee6a1efa0>"
      ]
     },
     "execution_count": 3,
     "metadata": {},
     "output_type": "execute_result"
    },
    {
     "data": {
      "image/png": "[encoded data removed]",
      "text/plain": [
       "<Figure size 440x432 with 1 Axes>"
      ]
     },
     "metadata": {},
     "output_type": "display_data"
    }
   ],
   "source": [
    "import seaborn as sns\n",
    "sns.set_style(\"whitegrid\")\n",
    "sns.FacetGrid(data,\n",
    "              height = 6).map(plt.scatter,\n",
    "                              'X_LOC',\n",
    "                              'Y_LOC').add_legend()"
   ]
  },
  {
   "attachments": {},
   "cell_type": "markdown",
   "metadata": {},
   "source": [
    "# METODO ELBOW"
   ]
  },
  {
   "cell_type": "code",
   "execution_count": 4,
   "metadata": {},
   "outputs": [
    {
     "data": {
      "text/html": [
       "<div>\n",
       "<style scoped>\n",
       "    .dataframe tbody tr th:only-of-type {\n",
       "        vertical-align: middle;\n",
       "    }\n",
       "\n",
       "    .dataframe tbody tr th {\n",
       "        vertical-align: top;\n",
       "    }\n",
       "\n",
       "    .dataframe thead th {\n",
       "        text-align: right;\n",
       "    }\n",
       "</style>\n",
       "<table border=\"1\" class=\"dataframe\">\n",
       "  <thead>\n",
       "    <tr style=\"text-align: right;\">\n",
       "      <th></th>\n",
       "      <th>X_LOC</th>\n",
       "      <th>Y_LOC</th>\n",
       "    </tr>\n",
       "  </thead>\n",
       "  <tbody>\n",
       "    <tr>\n",
       "      <th>0</th>\n",
       "      <td>450313.93750</td>\n",
       "      <td>6795994.0</td>\n",
       "    </tr>\n",
       "    <tr>\n",
       "      <th>1</th>\n",
       "      <td>454469.53125</td>\n",
       "      <td>6603730.0</td>\n",
       "    </tr>\n",
       "    <tr>\n",
       "      <th>2</th>\n",
       "      <td>437780.34375</td>\n",
       "      <td>6791573.5</td>\n",
       "    </tr>\n",
       "    <tr>\n",
       "      <th>3</th>\n",
       "      <td>526935.68750</td>\n",
       "      <td>6758512.0</td>\n",
       "    </tr>\n",
       "    <tr>\n",
       "      <th>4</th>\n",
       "      <td>466874.18750</td>\n",
       "      <td>6479870.5</td>\n",
       "    </tr>\n",
       "  </tbody>\n",
       "</table>\n",
       "</div>"
      ],
      "text/plain": [
       "          X_LOC      Y_LOC\n",
       "0  450313.93750  6795994.0\n",
       "1  454469.53125  6603730.0\n",
       "2  437780.34375  6791573.5\n",
       "3  526935.68750  6758512.0\n",
       "4  466874.18750  6479870.5"
      ]
     },
     "execution_count": 4,
     "metadata": {},
     "output_type": "execute_result"
    }
   ],
   "source": [
    "df_Short = data[['X_LOC','Y_LOC']]\n",
    "df_Short.head()"
   ]
  },
  {
   "cell_type": "code",
   "execution_count": 5,
   "metadata": {},
   "outputs": [],
   "source": [
    "import sklearn.cluster as cluster\n",
    "K = range(1,12)\n",
    "wss = []\n",
    "for k in K:\n",
    "    kmeans=cluster.KMeans(n_clusters=k,init=\"k-means++\")\n",
    "    kmeans=kmeans.fit(df_Short)\n",
    "    wss_iter = kmeans.inertia_\n",
    "    wss.append(wss_iter)"
   ]
  },
  {
   "cell_type": "code",
   "execution_count": 6,
   "metadata": {},
   "outputs": [
    {
     "data": {
      "text/html": [
       "<div>\n",
       "<style scoped>\n",
       "    .dataframe tbody tr th:only-of-type {\n",
       "        vertical-align: middle;\n",
       "    }\n",
       "\n",
       "    .dataframe tbody tr th {\n",
       "        vertical-align: top;\n",
       "    }\n",
       "\n",
       "    .dataframe thead th {\n",
       "        text-align: right;\n",
       "    }\n",
       "</style>\n",
       "<table border=\"1\" class=\"dataframe\">\n",
       "  <thead>\n",
       "    <tr style=\"text-align: right;\">\n",
       "      <th></th>\n",
       "      <th>Clusters</th>\n",
       "      <th>Valor</th>\n",
       "    </tr>\n",
       "  </thead>\n",
       "  <tbody>\n",
       "    <tr>\n",
       "      <th>0</th>\n",
       "      <td>1</td>\n",
       "      <td>8.910671e+14</td>\n",
       "    </tr>\n",
       "    <tr>\n",
       "      <th>1</th>\n",
       "      <td>2</td>\n",
       "      <td>1.657086e+14</td>\n",
       "    </tr>\n",
       "    <tr>\n",
       "      <th>2</th>\n",
       "      <td>3</td>\n",
       "      <td>7.686311e+13</td>\n",
       "    </tr>\n",
       "    <tr>\n",
       "      <th>3</th>\n",
       "      <td>4</td>\n",
       "      <td>5.654932e+13</td>\n",
       "    </tr>\n",
       "    <tr>\n",
       "      <th>4</th>\n",
       "      <td>5</td>\n",
       "      <td>3.910675e+13</td>\n",
       "    </tr>\n",
       "    <tr>\n",
       "      <th>5</th>\n",
       "      <td>6</td>\n",
       "      <td>2.776946e+13</td>\n",
       "    </tr>\n",
       "    <tr>\n",
       "      <th>6</th>\n",
       "      <td>7</td>\n",
       "      <td>2.122817e+13</td>\n",
       "    </tr>\n",
       "    <tr>\n",
       "      <th>7</th>\n",
       "      <td>8</td>\n",
       "      <td>1.610951e+13</td>\n",
       "    </tr>\n",
       "    <tr>\n",
       "      <th>8</th>\n",
       "      <td>9</td>\n",
       "      <td>1.381677e+13</td>\n",
       "    </tr>\n",
       "    <tr>\n",
       "      <th>9</th>\n",
       "      <td>10</td>\n",
       "      <td>1.186758e+13</td>\n",
       "    </tr>\n",
       "    <tr>\n",
       "      <th>10</th>\n",
       "      <td>11</td>\n",
       "      <td>1.034717e+13</td>\n",
       "    </tr>\n",
       "  </tbody>\n",
       "</table>\n",
       "</div>"
      ],
      "text/plain": [
       "    Clusters         Valor\n",
       "0          1  8.910671e+14\n",
       "1          2  1.657086e+14\n",
       "2          3  7.686311e+13\n",
       "3          4  5.654932e+13\n",
       "4          5  3.910675e+13\n",
       "5          6  2.776946e+13\n",
       "6          7  2.122817e+13\n",
       "7          8  1.610951e+13\n",
       "8          9  1.381677e+13\n",
       "9         10  1.186758e+13\n",
       "10        11  1.034717e+13"
      ]
     },
     "execution_count": 6,
     "metadata": {},
     "output_type": "execute_result"
    }
   ],
   "source": [
    "mycenters = pd.DataFrame({'Clusters' : K, 'Valor' : wss})\n",
    "mycenters"
   ]
  },
  {
   "cell_type": "code",
   "execution_count": 7,
   "metadata": {},
   "outputs": [
    {
     "data": {
      "text/plain": [
       "<AxesSubplot:xlabel='Clusters', ylabel='Valor'>"
      ]
     },
     "execution_count": 7,
     "metadata": {},
     "output_type": "execute_result"
    },
    {
     "data": {
      "image/png": "[encoded data removed]",
      "text/plain": [
       "<Figure size 432x288 with 1 Axes>"
      ]
     },
     "metadata": {},
     "output_type": "display_data"
    }
   ],
   "source": [
    "sns.lineplot(x = 'Clusters', y = 'Valor', data = mycenters, marker=\"+\")"
   ]
  },
  {
   "cell_type": "code",
   "execution_count": 8,
   "metadata": {},
   "outputs": [
    {
     "name": "stdout",
     "output_type": "stream",
     "text": [
      "[1 0 1 ... 0 0 0]\n"
     ]
    }
   ],
   "source": [
    "from sklearn.cluster import AgglomerativeClustering\n",
    "\n",
    "cluster = AgglomerativeClustering(n_clusters=2, affinity='euclidean', linkage='ward')\n",
    "clusters = cluster.fit_predict(df_Short)\n",
    "print(clusters)"
   ]
  },
  {
   "cell_type": "code",
   "execution_count": 9,
   "metadata": {},
   "outputs": [
    {
     "data": {
      "text/html": [
       "<div>\n",
       "<style scoped>\n",
       "    .dataframe tbody tr th:only-of-type {\n",
       "        vertical-align: middle;\n",
       "    }\n",
       "\n",
       "    .dataframe tbody tr th {\n",
       "        vertical-align: top;\n",
       "    }\n",
       "\n",
       "    .dataframe thead th {\n",
       "        text-align: right;\n",
       "    }\n",
       "</style>\n",
       "<table border=\"1\" class=\"dataframe\">\n",
       "  <thead>\n",
       "    <tr style=\"text-align: right;\">\n",
       "      <th></th>\n",
       "      <th>Unnamed: 0</th>\n",
       "      <th>DEPTH_MD</th>\n",
       "      <th>X_LOC</th>\n",
       "      <th>Y_LOC</th>\n",
       "      <th>GROUP</th>\n",
       "      <th>CALI</th>\n",
       "      <th>RSHA</th>\n",
       "      <th>RMED</th>\n",
       "      <th>RDEP</th>\n",
       "      <th>RHOB</th>\n",
       "      <th>GR</th>\n",
       "      <th>NPHI</th>\n",
       "      <th>PEF</th>\n",
       "      <th>DTC</th>\n",
       "      <th>SP</th>\n",
       "      <th>DRHO</th>\n",
       "      <th>LITHOLOGY</th>\n",
       "      <th>VSH</th>\n",
       "      <th>CLUSTER</th>\n",
       "    </tr>\n",
       "  </thead>\n",
       "  <tbody>\n",
       "    <tr>\n",
       "      <th>0</th>\n",
       "      <td>922572</td>\n",
       "      <td>2724.702000</td>\n",
       "      <td>450313.93750</td>\n",
       "      <td>6795994.0</td>\n",
       "      <td>BAAT GP.</td>\n",
       "      <td>11.581571</td>\n",
       "      <td>0.366497</td>\n",
       "      <td>1.163781</td>\n",
       "      <td>0.918190</td>\n",
       "      <td>2.356852</td>\n",
       "      <td>78.766212</td>\n",
       "      <td>0.205796</td>\n",
       "      <td>9.107889</td>\n",
       "      <td>83.988472</td>\n",
       "      <td>59.014019</td>\n",
       "      <td>-0.018337</td>\n",
       "      <td>Sandstone</td>\n",
       "      <td>0.089237</td>\n",
       "      <td>1</td>\n",
       "    </tr>\n",
       "    <tr>\n",
       "      <th>1</th>\n",
       "      <td>320996</td>\n",
       "      <td>2621.822805</td>\n",
       "      <td>454469.53125</td>\n",
       "      <td>6603730.0</td>\n",
       "      <td>ROGALAND GP.</td>\n",
       "      <td>18.109400</td>\n",
       "      <td>9.968602</td>\n",
       "      <td>0.797137</td>\n",
       "      <td>0.878440</td>\n",
       "      <td>2.277410</td>\n",
       "      <td>30.843834</td>\n",
       "      <td>0.282925</td>\n",
       "      <td>4.117731</td>\n",
       "      <td>81.420059</td>\n",
       "      <td>59.014019</td>\n",
       "      <td>0.001239</td>\n",
       "      <td>Sandstone</td>\n",
       "      <td>0.054281</td>\n",
       "      <td>0</td>\n",
       "    </tr>\n",
       "    <tr>\n",
       "      <th>2</th>\n",
       "      <td>728745</td>\n",
       "      <td>2637.138000</td>\n",
       "      <td>437780.34375</td>\n",
       "      <td>6791573.5</td>\n",
       "      <td>BAAT GP.</td>\n",
       "      <td>11.879846</td>\n",
       "      <td>2.809250</td>\n",
       "      <td>1.766732</td>\n",
       "      <td>1.737608</td>\n",
       "      <td>2.205797</td>\n",
       "      <td>38.775616</td>\n",
       "      <td>0.323573</td>\n",
       "      <td>6.058303</td>\n",
       "      <td>103.821838</td>\n",
       "      <td>61.254036</td>\n",
       "      <td>-0.059639</td>\n",
       "      <td>Sandstone</td>\n",
       "      <td>0.085962</td>\n",
       "      <td>1</td>\n",
       "    </tr>\n",
       "    <tr>\n",
       "      <th>3</th>\n",
       "      <td>582075</td>\n",
       "      <td>1992.700979</td>\n",
       "      <td>526935.68750</td>\n",
       "      <td>6758512.0</td>\n",
       "      <td>VIKING GP.</td>\n",
       "      <td>11.914101</td>\n",
       "      <td>1.580701</td>\n",
       "      <td>0.820026</td>\n",
       "      <td>0.544555</td>\n",
       "      <td>2.150259</td>\n",
       "      <td>39.672600</td>\n",
       "      <td>0.337625</td>\n",
       "      <td>3.794930</td>\n",
       "      <td>104.682312</td>\n",
       "      <td>66.092003</td>\n",
       "      <td>-0.011558</td>\n",
       "      <td>Sandstone</td>\n",
       "      <td>0.068806</td>\n",
       "      <td>1</td>\n",
       "    </tr>\n",
       "    <tr>\n",
       "      <th>4</th>\n",
       "      <td>191006</td>\n",
       "      <td>2198.375197</td>\n",
       "      <td>466874.18750</td>\n",
       "      <td>6479870.5</td>\n",
       "      <td>VIKING GP.</td>\n",
       "      <td>12.554856</td>\n",
       "      <td>1.318956</td>\n",
       "      <td>1.326310</td>\n",
       "      <td>1.415055</td>\n",
       "      <td>2.440757</td>\n",
       "      <td>59.876221</td>\n",
       "      <td>0.308275</td>\n",
       "      <td>6.058303</td>\n",
       "      <td>94.435440</td>\n",
       "      <td>39.258499</td>\n",
       "      <td>0.024615</td>\n",
       "      <td>Sandstone</td>\n",
       "      <td>0.245766</td>\n",
       "      <td>0</td>\n",
       "    </tr>\n",
       "  </tbody>\n",
       "</table>\n",
       "</div>"
      ],
      "text/plain": [
       "   Unnamed: 0     DEPTH_MD         X_LOC      Y_LOC         GROUP       CALI  \\\n",
       "0      922572  2724.702000  450313.93750  6795994.0      BAAT GP.  11.581571   \n",
       "1      320996  2621.822805  454469.53125  6603730.0  ROGALAND GP.  18.109400   \n",
       "2      728745  2637.138000  437780.34375  6791573.5      BAAT GP.  11.879846   \n",
       "3      582075  1992.700979  526935.68750  6758512.0    VIKING GP.  11.914101   \n",
       "4      191006  2198.375197  466874.18750  6479870.5    VIKING GP.  12.554856   \n",
       "\n",
       "       RSHA      RMED      RDEP      RHOB         GR      NPHI       PEF  \\\n",
       "0  0.366497  1.163781  0.918190  2.356852  78.766212  0.205796  9.107889   \n",
       "1  9.968602  0.797137  0.878440  2.277410  30.843834  0.282925  4.117731   \n",
       "2  2.809250  1.766732  1.737608  2.205797  38.775616  0.323573  6.058303   \n",
       "3  1.580701  0.820026  0.544555  2.150259  39.672600  0.337625  3.794930   \n",
       "4  1.318956  1.326310  1.415055  2.440757  59.876221  0.308275  6.058303   \n",
       "\n",
       "          DTC         SP      DRHO  LITHOLOGY       VSH  CLUSTER  \n",
       "0   83.988472  59.014019 -0.018337  Sandstone  0.089237        1  \n",
       "1   81.420059  59.014019  0.001239  Sandstone  0.054281        0  \n",
       "2  103.821838  61.254036 -0.059639  Sandstone  0.085962        1  \n",
       "3  104.682312  66.092003 -0.011558  Sandstone  0.068806        1  \n",
       "4   94.435440  39.258499  0.024615  Sandstone  0.245766        0  "
      ]
     },
     "execution_count": 9,
     "metadata": {},
     "output_type": "execute_result"
    }
   ],
   "source": [
    "data['CLUSTER'] = clusters\n",
    "data.head()"
   ]
  },
  {
   "cell_type": "code",
   "execution_count": 11,
   "metadata": {},
   "outputs": [
    {
     "data": {
      "text/plain": [
       "<seaborn.axisgrid.FacetGrid at 0x26e8d63fb50>"
      ]
     },
     "execution_count": 11,
     "metadata": {},
     "output_type": "execute_result"
    },
    {
     "data": {
      "image/png": "[encoded data removed]",
      "text/plain": [
       "<Figure size 486.25x432 with 1 Axes>"
      ]
     },
     "metadata": {},
     "output_type": "display_data"
    }
   ],
   "source": [
    "import seaborn as sns\n",
    "sns.set_style(\"whitegrid\")\n",
    "sns.FacetGrid(data, hue =\"CLUSTER\",\n",
    "              height = 6).map(plt.scatter,\n",
    "                              'X_LOC',\n",
    "                              'Y_LOC').add_legend()"
   ]
  },
  {
   "cell_type": "code",
   "execution_count": null,
   "metadata": {},
   "outputs": [],
   "source": [
    "data.to_csv('EDA_2.csv')"
   ]
  },
  {
   "cell_type": "code",
   "execution_count": null,
   "metadata": {},
   "outputs": [],
   "source": []
  }
 ],
 "metadata": {
  "kernelspec": {
   "display_name": "Python 3",
   "language": "python",
   "name": "python3"
  },
  "language_info": {
   "codemirror_mode": {
    "name": "ipython",
    "version": 3
   },
   "file_extension": ".py",
   "mimetype": "text/x-python",
   "name": "python",
   "nbconvert_exporter": "python",
   "pygments_lexer": "ipython3",
   "version": "3.9.13"
  },
  "orig_nbformat": 4
 },
 "nbformat": 4,
 "nbformat_minor": 2
}
